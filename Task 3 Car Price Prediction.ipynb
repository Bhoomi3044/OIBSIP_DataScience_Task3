{
 "cells": [
  {
   "cell_type": "markdown",
   "id": "b62a7be1",
   "metadata": {},
   "source": [
    "# 🚘 Car Price Prediction with Machine Learning\n",
    "\n",
    "## 🧩 Problem Statement\n",
    "The price of a car depends on factors such as brand, features, fuel type, transmission, and mileage. In this project, we will build a machine learning model to predict the **selling price** of a car using historical data.\n"
   ]
  },
  {
   "cell_type": "code",
   "execution_count": null,
   "id": "d05a38e7",
   "metadata": {},
   "outputs": [],
   "source": [
    "# 📦 Step 1: Import Required Libraries\n",
    "import pandas as pd\n",
    "import numpy as np\n",
    "import seaborn as sns\n",
    "import matplotlib.pyplot as plt\n",
    "from sklearn.model_selection import train_test_split\n",
    "from sklearn.ensemble import RandomForestRegressor\n",
    "from sklearn.metrics import r2_score\n",
    "import warnings\n",
    "warnings.filterwarnings('ignore')"
   ]
  },
  {
   "cell_type": "code",
   "execution_count": null,
   "id": "6b1eab48",
   "metadata": {},
   "outputs": [],
   "source": [
    "# 📂 Step 2: Load the Dataset\n",
    "df = pd.read_csv(\"car data.csv\")\n",
    "df.head()"
   ]
  },
  {
   "cell_type": "code",
   "execution_count": null,
   "id": "24b0f6c3",
   "metadata": {},
   "outputs": [],
   "source": [
    "# 🧹 Step 3: Data Preprocessing\n",
    "# Create a new column for car age\n",
    "df['Car_Age'] = 2020 - df['Year']\n",
    "df.drop(['Car_Name', 'Year'], axis=1, inplace=True)\n",
    "\n",
    "# One-hot encoding for categorical columns\n",
    "df = pd.get_dummies(df, drop_first=True)\n",
    "df.head()"
   ]
  },
  {
   "cell_type": "code",
   "execution_count": null,
   "id": "f629da92",
   "metadata": {},
   "outputs": [],
   "source": [
    "# 📊 Step 4: Data Visualization\n",
    "plt.figure(figsize=(10, 6))\n",
    "sns.heatmap(df.corr(), annot=True, cmap='coolwarm')\n",
    "plt.title('Correlation Heatmap')\n",
    "plt.show()"
   ]
  },
  {
   "cell_type": "code",
   "execution_count": null,
   "id": "ea2dc296",
   "metadata": {},
   "outputs": [],
   "source": [
    "# 🚂 Step 5: Split Data and Train Model\n",
    "X = df.drop('Selling_Price', axis=1)\n",
    "y = df['Selling_Price']\n",
    "\n",
    "X_train, X_test, y_train, y_test = train_test_split(X, y, test_size=0.2, random_state=42)\n",
    "model = RandomForestRegressor(random_state=42)\n",
    "model.fit(X_train, y_train)\n",
    "y_pred = model.predict(X_test)\n",
    "score = r2_score(y_test, y_pred)\n",
    "print(f\"R² Score: {score:.2f}\")"
   ]
  },
  {
   "cell_type": "code",
   "execution_count": null,
   "id": "775c3235",
   "metadata": {},
   "outputs": [],
   "source": [
    "# 📈 Step 6: Feature Importance\n",
    "feat_importances = pd.Series(model.feature_importances_, index=X.columns)\n",
    "feat_importances.nlargest(10).plot(kind='barh')\n",
    "plt.title(\"Feature Importance\")\n",
    "plt.show()"
   ]
  },
  {
   "cell_type": "markdown",
   "id": "beb1f4e4",
   "metadata": {},
   "source": [
    "## ✅ Conclusion\n",
    "- We've successfully trained a Random Forest model to predict car prices.\n",
    "- Model performs well with R² score showing how well it fits test data.\n",
    "- Feature importance analysis reveals that **Present Price**, **Car Age**, and **Kms Driven** are significant contributors.\n",
    "\n",
    "This notebook can be extended into a web app using **Streamlit** for real-time predictions."
   ]
  }
 ],
 "metadata": {},
 "nbformat": 4,
 "nbformat_minor": 5
}
